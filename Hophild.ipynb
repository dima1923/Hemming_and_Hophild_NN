{
 "cells": [
  {
   "cell_type": "code",
   "execution_count": 1,
   "metadata": {},
   "outputs": [],
   "source": [
    "import numpy as np\n",
    "%matplotlib inline\n",
    "import matplotlib.pyplot as plt"
   ]
  },
  {
   "cell_type": "code",
   "execution_count": 2,
   "metadata": {},
   "outputs": [],
   "source": [
    "D=np.array([[1,1,1,1,-1],[1,-1,-1,-1,1],[1,-1,-1,-1,1],[1,-1,-1,-1,1],[1,1,1,1,-1]])\n",
    "I=np.array([[1,1,1,1,1],[-1,-1,1,-1,-1],[-1,-1,1,-1,-1],[-1,-1,1,-1,-1],[1,1,1,1,1]])\n",
    "M=np.array([[1,-1,-1,-1,1],[1,1,-1,1,1],[1,-1,1,-1,1],[1,-1,1,-1,1],[1,-1,1,-1,1]])\n",
    "A=np.array([[-1,-1,1,-1,-1],[-1,1,-1,1,-1],[1,-1,-1,-1,1],[1,1,1,1,1],[1,-1,-1,-1,1]])"
   ]
  },
  {
   "cell_type": "code",
   "execution_count": 3,
   "metadata": {},
   "outputs": [],
   "source": [
    "image=[]\n",
    "image.append(D.flatten())\n",
    "image.append(I.flatten())\n",
    "image.append(M.flatten())\n",
    "image.append(A.flatten())\n",
    "image=np.array(image)"
   ]
  },
  {
   "cell_type": "code",
   "execution_count": 4,
   "metadata": {},
   "outputs": [
    {
     "data": {
      "image/png": "[encoded data removed]",
      "text/plain": [
       "<Figure size 432x288 with 4 Axes>"
      ]
     },
     "metadata": {
      "needs_background": "light"
     },
     "output_type": "display_data"
    }
   ],
   "source": [
    "fig = plt.figure()\n",
    "for i in range(0,image.shape[0]):\n",
    "    sub = fig.add_subplot(1,image.shape[0],i+1)\n",
    "    sub.imshow(image[i].reshape((5,5)))\n",
    "plt.show()"
   ]
  },
  {
   "cell_type": "code",
   "execution_count": 5,
   "metadata": {},
   "outputs": [],
   "source": [
    "w=image.T.dot(image)-np.eye(image.shape[1],image.shape[1])*image.shape[0]"
   ]
  },
  {
   "cell_type": "code",
   "execution_count": 6,
   "metadata": {},
   "outputs": [],
   "source": [
    "obj=np.array([[-1,-1,1,-1,-1],[-1,1,1,1,-1],[-1,-1,1,1,-1],[1,1,1,1,1],[1,-1,-1,-1,-1]])"
   ]
  },
  {
   "cell_type": "code",
   "execution_count": 7,
   "metadata": {},
   "outputs": [
    {
     "data": {
      "text/plain": [
       "<matplotlib.image.AxesImage at 0x2238b72d9e8>"
      ]
     },
     "execution_count": 7,
     "metadata": {},
     "output_type": "execute_result"
    },
    {
     "data": {
      "image/png": "[encoded data removed]",
      "text/plain": [
       "<Figure size 432x288 with 1 Axes>"
      ]
     },
     "metadata": {
      "needs_background": "light"
     },
     "output_type": "display_data"
    }
   ],
   "source": [
    "fig=plt.figure()\n",
    "sub=fig.add_subplot(1,1,1)\n",
    "sub.imshow(obj)"
   ]
  },
  {
   "cell_type": "code",
   "execution_count": 8,
   "metadata": {},
   "outputs": [
    {
     "name": "stdout",
     "output_type": "stream",
     "text": [
      "[-1 -1 -1 -1 -1 -1  1 -1  1 -1  1  1 -1 -1  1  1  1  1  1  1 -1 -1 -1 -1\n",
      "  1]\n",
      "[-1 -1 -1 -1 -1 -1  1 -1  1 -1  1 -1 -1  1  1  1  1  1  1  1  1 -1 -1 -1\n",
      "  1]\n",
      "[-1 -1 -1 -1 -1 -1  1 -1  1 -1  1 -1 -1 -1  1  1  1  1  1  1  1 -1 -1 -1\n",
      "  1]\n",
      "[-1 -1  1 -1 -1 -1  1 -1  1 -1  1 -1 -1 -1  1  1  1  1  1  1  1 -1 -1 -1\n",
      "  1]\n",
      "True\n"
     ]
    }
   ],
   "source": [
    "flag=False\n",
    "obj_old=np.array([])\n",
    "while (flag==False):\n",
    "    obj_old=obj.flatten()\n",
    "    obj=np.where(w.dot(obj.flatten())>0,1,-1)\n",
    "    for img in image:\n",
    "        if(np.array_equal(obj,img)==True):\n",
    "            flag=True\n",
    "            break\n",
    "    if(np.array_equal(obj_old,obj)==True):\n",
    "        break"
   ]
  },
  {
   "cell_type": "code",
   "execution_count": 9,
   "metadata": {},
   "outputs": [
    {
     "data": {
      "text/plain": [
       "<matplotlib.image.AxesImage at 0x2238bd143c8>"
      ]
     },
     "execution_count": 9,
     "metadata": {},
     "output_type": "execute_result"
    },
    {
     "data": {
      "image/png": "[encoded data removed]",
      "text/plain": [
       "<Figure size 432x288 with 1 Axes>"
      ]
     },
     "metadata": {
      "needs_background": "light"
     },
     "output_type": "display_data"
    }
   ],
   "source": [
    "fig=plt.figure()\n",
    "sub=fig.add_subplot(1,1,1)\n",
    "sub.imshow(obj.reshape((5,5)))"
   ]
  },
  {
   "cell_type": "code",
   "execution_count": null,
   "metadata": {},
   "outputs": [],
   "source": []
  }
 ],
 "metadata": {
  "kernelspec": {
   "display_name": "Python 3",
   "language": "python",
   "name": "python3"
  },
  "language_info": {
   "codemirror_mode": {
    "name": "ipython",
    "version": 3
   },
   "file_extension": ".py",
   "mimetype": "text/x-python",
   "name": "python",
   "nbconvert_exporter": "python",
   "pygments_lexer": "ipython3",
   "version": "3.7.1"
  },
  "pycharm": {
   "stem_cell": {
    "cell_type": "raw",
    "source": [],
    "metadata": {
     "collapsed": false
    }
   }
  }
 },
 "nbformat": 4,
 "nbformat_minor": 2
}