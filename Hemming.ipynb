{
 "cells": [
  {
   "cell_type": "code",
   "execution_count": 1,
   "metadata": {},
   "outputs": [],
   "source": [
    "import numpy as np\n",
    "%matplotlib inline\n",
    "import matplotlib.pyplot as plt"
   ]
  },
  {
   "cell_type": "code",
   "execution_count": 2,
   "metadata": {},
   "outputs": [],
   "source": [
    "D=np.array([[1,1,1,1,-1],[1,-1,-1,-1,1],[1,-1,-1,-1,1],[1,-1,-1,-1,1],[1,1,1,1,-1]])\n",
    "I=np.array([[1,1,1,1,1],[-1,-1,1,-1,-1],[-1,-1,1,-1,-1],[-1,-1,1,-1,-1],[1,1,1,1,1]])\n",
    "M=np.array([[1,-1,-1,-1,1],[1,1,-1,1,1],[1,-1,1,-1,1],[1,-1,1,-1,1],[1,-1,1,-1,1]])\n",
    "A=np.array([[-1,-1,1,-1,-1],[-1,1,-1,1,-1],[1,-1,-1,-1,1],[1,1,1,1,1],[1,-1,-1,-1,1]])"
   ]
  },
  {
   "cell_type": "code",
   "execution_count": 3,
   "metadata": {},
   "outputs": [],
   "source": [
    "image=[]\n",
    "image.append(D.flatten())\n",
    "image.append(I.flatten())\n",
    "image.append(M.flatten())\n",
    "image.append(A.flatten())\n",
    "image=np.array(image)"
   ]
  },
  {
   "cell_type": "code",
   "execution_count": 4,
   "metadata": {},
   "outputs": [
    {
     "data": {
      "image/png": "[encoded data removed]",
      "text/plain": [
       "<Figure size 432x288 with 4 Axes>"
      ]
     },
     "metadata": {
      "needs_background": "light"
     },
     "output_type": "display_data"
    }
   ],
   "source": [
    "fig = plt.figure()\n",
    "for i in range(0,image.shape[0]):\n",
    "    sub = fig.add_subplot(1,image.shape[0],i+1)\n",
    "    sub.imshow(image[i].reshape((5,5)))\n",
    "plt.show()"
   ]
  },
  {
   "cell_type": "code",
   "execution_count": 5,
   "metadata": {},
   "outputs": [],
   "source": [
    "w=[]\n",
    "for i in image:\n",
    "    w.append(i.flatten()/2)\n",
    "w=np.array(w)\n",
    "w=w.T"
   ]
  },
  {
   "cell_type": "code",
   "execution_count": 6,
   "metadata": {},
   "outputs": [],
   "source": [
    "eps = 1/image.shape[0]\n",
    "T=image.shape[1]/2"
   ]
  },
  {
   "cell_type": "code",
   "execution_count": 7,
   "metadata": {},
   "outputs": [],
   "source": [
    "e=np.eye(w.shape[1],w.shape[1])+np.full((w.shape[1],w.shape[1]),-eps)-np.eye(w.shape[1],w.shape[1])*(-eps)"
   ]
  },
  {
   "cell_type": "code",
   "execution_count": 8,
   "metadata": {},
   "outputs": [],
   "source": [
    "obj=np.array([[-1,-1,1,-1,-1],[-1,1,1,1,-1],[-1,-1,1,1,-1],[1,1,1,1,1],[1,-1,-1,-1,-1]])"
   ]
  },
  {
   "cell_type": "code",
   "execution_count": 9,
   "metadata": {},
   "outputs": [
    {
     "data": {
      "text/plain": [
       "<matplotlib.image.AxesImage at 0x7f398e8d5470>"
      ]
     },
     "execution_count": 9,
     "metadata": {},
     "output_type": "execute_result"
    },
    {
     "data": {
      "image/png": "[encoded data removed]",
      "text/plain": [
       "<Figure size 432x288 with 1 Axes>"
      ]
     },
     "metadata": {
      "needs_background": "light"
     },
     "output_type": "display_data"
    }
   ],
   "source": [
    "fig=plt.figure()\n",
    "sub=fig.add_subplot(1,1,1)\n",
    "sub.imshow(obj)"
   ]
  },
  {
   "cell_type": "code",
   "execution_count": 10,
   "metadata": {},
   "outputs": [],
   "source": [
    "obj_flat=obj.flatten()"
   ]
  },
  {
   "cell_type": "code",
   "execution_count": 11,
   "metadata": {},
   "outputs": [],
   "source": [
    "s1=w.T.dot(obj_flat)+np.full((1,w.shape[1]),T)"
   ]
  },
  {
   "cell_type": "code",
   "execution_count": 13,
   "metadata": {},
   "outputs": [],
   "source": [
    "fs1=np.where(s1>=0,np.where(s1>=T,T,s1),0)"
   ]
  },
  {
   "cell_type": "code",
   "execution_count": 13,
   "metadata": {},
   "outputs": [
    {
     "name": "stdout",
     "output_type": "stream",
     "text": [
      "0\n",
      "1\n",
      "2\n",
      "3\n",
      "4\n",
      "5\n",
      "6\n"
     ]
    }
   ],
   "source": [
    "inYnew=fs1\n",
    "s2=e.dot(inYnew.T)\n",
    "fs2=np.where(s2>=0,np.where(s2>=T,T,s2),0).T\n",
    "inYold=inYnew\n",
    "inYnew=fs2\n",
    "i=0\n",
    "while(np.linalg.norm(inYnew-inYold)>0.01):\n",
    "    i+=1\n",
    "    s2=e.dot(inYnew.T)\n",
    "    fs2=np.where(s2>=0,np.where(s2>=T,T,s2),0).T\n",
    "    inYold=inYnew\n",
    "    inYnew=fs2"
   ]
  },
  {
   "cell_type": "code",
   "execution_count": 14,
   "metadata": {},
   "outputs": [
    {
     "name": "stdout",
     "output_type": "stream",
     "text": [
      "4\n"
     ]
    }
   ],
   "source": [
    "clas=np.argmax(inYnew)+1\n",
    "print(clas)"
   ]
  },
  {
   "cell_type": "code",
   "execution_count": null,
   "metadata": {},
   "outputs": [],
   "source": []
  }
 ],
 "metadata": {
  "kernelspec": {
   "display_name": "Python 3",
   "language": "python",
   "name": "python3"
  },
  "language_info": {
   "codemirror_mode": {
    "name": "ipython",
    "version": 3
   },
   "file_extension": ".py",
   "mimetype": "text/x-python",
   "name": "python",
   "nbconvert_exporter": "python",
   "pygments_lexer": "ipython3",
   "version": "3.7.1"
  },
  "pycharm": {
   "stem_cell": {
    "cell_type": "raw",
    "source": [],
    "metadata": {
     "collapsed": false
    }
   }
  }
 },
 "nbformat": 4,
 "nbformat_minor": 2
}